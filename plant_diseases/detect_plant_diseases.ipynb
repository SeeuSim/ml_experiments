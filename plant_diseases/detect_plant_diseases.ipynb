{
  "cells": [
    {
      "cell_type": "markdown",
      "metadata": {
        "id": "fJJL30auFPb1"
      },
      "source": [
        "# Transfer Learning for Plant Disease Classification using TensorFlow"
      ]
    },
    {
      "cell_type": "markdown",
      "metadata": {
        "id": "tiAP-JTaFVt8"
      },
      "source": [
        "## Overview\n",
        "This case study demonstrates transfer learning techniques for plant disease classification using the PlantVillage dataset. Students will gain hands-on experience developing an image classification model using TensorFlow and transfer learning."
      ]
    },
    {
      "cell_type": "markdown",
      "metadata": {
        "id": "6oMkbwQTFsUG"
      },
      "source": [
        "## Learning Objectives"
      ]
    },
    {
      "cell_type": "markdown",
      "metadata": {
        "id": "MyTNGf89Fx2a"
      },
      "source": [
        "*   Understand transfer learning and its benefits in image classification tasks.\n",
        "*   Learn to load and preprocess image data using TensorFlow Datasets (TFDS).\n",
        "*   Use a pre-trained model (MobileNetV2) as a base model, add custom layers, and fine-tune it for improved performance.\n",
        "*   Evaluate the model's performance and interpret the results."
      ]
    },
    {
      "cell_type": "markdown",
      "metadata": {
        "id": "LINyfCfWGsVI"
      },
      "source": [
        "## Project Description"
      ]
    },
    {
      "cell_type": "markdown",
      "metadata": {
        "id": "XIT2ScMtGusk"
      },
      "source": [
        "The PlantVillage dataset contains 38 classes of healthy and diseased plant leaves. You will develop a deep-learning model to classify images based on plant diseases. There are the steps:\n",
        "\n",
        "1.  Load the dataset using TFDS and preprocess the images.\n",
        "2. Set input image shape, number of classes, and batch size.\n",
        "3. Load the pre-trained MobileNetV2 model and add custom layers.\n",
        "4. Create the final model and freeze the base model layers.\n",
        "5. Compile, train, and fine-tune the model.\n",
        "6. Evaluate the model's performance on the test dataset.\n",
        "\n",
        "You will experiment with different parameters and architectures to achieve optimal performance while better understanding transfer learning, TensorFlow, and image classification techniques.\n",
        "\n",
        "\n"
      ]
    },
    {
      "cell_type": "markdown",
      "metadata": {
        "id": "6goEqcD1EiyO"
      },
      "source": [
        "## Setup"
      ]
    },
    {
      "cell_type": "markdown",
      "metadata": {
        "id": "pf5-vWZLEomm"
      },
      "source": [
        "Set directory path"
      ]
    },
    {
      "cell_type": "code",
      "execution_count": 1,
      "metadata": {
        "colab": {
          "base_uri": "https://localhost:8080/"
        },
        "id": "uOmKicqJEVFW",
        "outputId": "8aa50c42-cd56-473a-ded0-14febf315b8c"
      },
      "outputs": [
        {
          "name": "stdout",
          "output_type": "stream",
          "text": [
            "detect_plant_diseases.ipynb\n"
          ]
        }
      ],
      "source": [
        "# import os\n",
        "# from google.colab import drive\n",
        "# drive.mount('/content/drive')\n",
        "# # change directory\n",
        "# os.chdir('/content/drive/My Drive/EM0007/1. Supervised/2. Computer Vision/1. Image Classification/3. plant_diseases')\n",
        "!ls"
      ]
    },
    {
      "cell_type": "markdown",
      "metadata": {
        "id": "TRsyy-K_EwaK"
      },
      "source": [
        "Import required libraries"
      ]
    },
    {
      "cell_type": "code",
      "execution_count": 2,
      "metadata": {
        "id": "kekWJep6VG4c"
      },
      "outputs": [],
      "source": [
        "import tensorflow as tf\n",
        "from keras.applications.mobilenet_v2 import MobileNetV2\n",
        "from keras.layers import GlobalAveragePooling2D, Dense, Dropout\n",
        "from keras import Model\n",
        "from keras.optimizers import Adam\n",
        "import numpy as np\n",
        "import matplotlib.pyplot as plt"
      ]
    },
    {
      "cell_type": "code",
      "execution_count": 3,
      "metadata": {
        "colab": {
          "base_uri": "https://localhost:8080/",
          "height": 35
        },
        "id": "DUQ06muCVIOZ",
        "outputId": "41e0ac39-f5f2-4c90-b110-d119f56994ae"
      },
      "outputs": [
        {
          "data": {
            "text/plain": [
              "'1.23.2'"
            ]
          },
          "execution_count": 3,
          "metadata": {},
          "output_type": "execute_result"
        }
      ],
      "source": [
        "tf.__version__\n",
        "np.__version__"
      ]
    },
    {
      "cell_type": "markdown",
      "metadata": {
        "id": "wE9eQy0wHuqh"
      },
      "source": [
        "## 1. Load the PlantVillage dataset"
      ]
    },
    {
      "cell_type": "code",
      "execution_count": 4,
      "metadata": {
        "colab": {
          "base_uri": "https://localhost:8080/",
          "height": 168,
          "referenced_widgets": [
            "7fbc1d4b803d44009dfae90e62abfe35",
            "f77a883199474e09a1d667a24098257c",
            "661ce2bd3f1545e9a0422a2e319aa438",
            "37aae2b08aae4c62a873844af4fef878",
            "691dedc276ba4a168a2e5d96acf86fa3",
            "42f09acee4fe49aba6c684fc498f5dc3",
            "6ed6d6807a6b4b81bfd8b9272ba8a864",
            "20aca63153ea4e8e9508773c0a23856a",
            "337ea4f4b2e34b6d84354aa6046cad4b",
            "029985a8f92b4dc4b85f5f0f8ebe8b75",
            "971d9529206e4efeae51f84139d4f974",
            "9b8309860c63400e8a94dedfb506728a",
            "fcb9696635a44ad88eb429e7efecdf51",
            "90b71f9f11184b8984e6ec62ce89a224",
            "46a94e0d68fc4e42bdeaebc2f103cc26",
            "a101feb0c9db4f26ab33a2fda68eed0f",
            "0994804d524e464da2c56b3c82df5f07",
            "36b12bf42a57413eac1a62768ee89cb9",
            "ced2f76b54564b7a80e9a11d090a7d06",
            "0bbf24ab7dfc4c949c1ac759c9958a64",
            "48d1563371a4457d9710e8ef52a97c49",
            "4d7d3d308a834d66a56e6ee3fcfad390",
            "01ca6f1a5bd241b584a343133fd7f754",
            "639ef0eefd5b42e9867987515a3d7dc9",
            "954aedb623c14b92a69f99dac3227027",
            "a5dae2332b934b299927b252d975ae5e",
            "2ab30645c32449f6a1354294e0f63e09",
            "1614a956eaaa450cbcb45218d88dbc77",
            "dc1b5fec34794b5aabc0324343742fdb",
            "01c4ea8e8c84441cab736ae6056c7e30",
            "e4093fb1338a480794500ff4486a06b8",
            "70f23c0b39984fb2b87ca3d7f5b3ee6e",
            "2fb26b73c48f436ea38987ee3de850b3",
            "5f5c745506a04f98b5c245532888e129",
            "7986758cc9c04fca86a129308e861054",
            "d5b58367394e4c12adb72d9543102cfb",
            "c340d81c0bf34438a0614ccb3af4a15f",
            "f8d5ed84f6864e3c95ef8068dfbc2f93",
            "9ed517769e314cfaaa47f1b56e3a84de",
            "1b7f4ff764d44db4914089784a8650f7",
            "5e94f6d46fe048a3a18f1053a8c9b3a9",
            "8f673688b1d1400abeb02d7394ef837b",
            "dfe130a0180240d7820d64f5d32768de",
            "03276f643ce14e42a549cb012c11c7ef"
          ]
        },
        "id": "BFYMP-tnFIpH",
        "outputId": "7a441e2a-066a-4c4a-8b53-ab33cf74bd9c"
      },
      "outputs": [],
      "source": [
        "import tensorflow_datasets as tfds\n",
        "dataset, info = tfds.load(\"plant_village\", with_info=True, as_supervised=True)\n",
        "full_dataset = dataset[\"train\"]"
      ]
    },
    {
      "cell_type": "markdown",
      "metadata": {
        "id": "VpdBB8UhH3mJ"
      },
      "source": [
        "In this step, you load the PlantVillage dataset using TensorFlow Datasets (TFDS). The **tfds.load()** function is used to load the dataset with the following parameters:\n",
        "\n",
        "*   **\"plant_village\"**: The name of the dataset to load.\n",
        "*   **with_info=True**: Indicates that we also want to retrieve the dataset's metadata (e.g., the number of examples, splits, etc.). The metadata is stored in the **info** variable.\n",
        "*   **as_supervised=True**: Specifies that we want to load the dataset in a supervised format, with separate variables for images and labels.\n",
        "\n",
        "Once the dataset is loaded, we store the \"train\" split of the dataset in the **full_dataset** variable. This will be used to create the training and testing datasets in the following step."
      ]
    },
    {
      "cell_type": "markdown",
      "metadata": {
        "id": "9TGsw9feIyba"
      },
      "source": [
        "## 2. Shuffle and split the dataset into training and testing sets"
      ]
    },
    {
      "cell_type": "code",
      "execution_count": 5,
      "metadata": {
        "id": "8SUsKJ2eI3-4"
      },
      "outputs": [],
      "source": [
        "train_size = int(0.8 * info.splits[\"train\"].num_examples)\n",
        "test_size = info.splits[\"train\"].num_examples - train_size\n",
        "full_dataset = full_dataset.shuffle(buffer_size=info.splits[\"train\"].num_examples)\n",
        "train_dataset = full_dataset.take(train_size)\n",
        "test_dataset = full_dataset.skip(train_size)"
      ]
    },
    {
      "cell_type": "markdown",
      "metadata": {
        "id": "tDw0QkvTI3FA"
      },
      "source": [
        "In this step, we shuffle and split the \"train\" split of the PlantVillage dataset into separate training and testing datasets:\n",
        "*    **train_size = int(0.8 * info.splits[\"train\"].num_examples)**: Calculate the number of examples that will be used for training. We use 80% of the total examples in the \"train\" split of the dataset for training purposes.\n",
        "*   **test_size = info.splits[\"train\"].num_examples - train_size**: Calculate the number of examples that will be used for testing. We use the remaining 20% of the total examples in the \"train\" split of the dataset for testing purposes.\n",
        "*   **full_dataset = full_dataset.shuffle(buffer_size=info.splits[\"train\"].num_examples)**: Shuffle the entire \"train\" split of the dataset to ensure the data is randomly ordered. The **buffer_size** parameter determines the number of elements that should be loaded into the buffer for shuffling. Setting it to the total number of examples in the \"train\" split ensures a uniform shuffle.\n",
        "*   **train_dataset = full_dataset.take(train_size)**: Create the training dataset by taking the first **train_size** examples from the shuffled dataset. This will correspond to 80% of the total examples in the \"train\" split.\n",
        "*   **test_dataset = full_dataset.skip(train_size)**: Create the testing dataset by skipping the first **train_size** examples from the shuffled dataset and taking the remaining examples. This will correspond to the remaining 20% of the total examples in the \"train\" split.\n",
        "\n",
        "This step is essential for creating separate training and testing datasets from the original dataset. By shuffling and splitting the data, we can ensure that the model is trained on diverse examples and can be evaluated on an independent test set to assess its performance."
      ]
    },
    {
      "cell_type": "markdown",
      "metadata": {
        "id": "Qce9AXVtKpjr"
      },
      "source": [
        "## 3. Set input image shape, number of classes, and batch size"
      ]
    },
    {
      "cell_type": "code",
      "execution_count": 6,
      "metadata": {
        "id": "bLDxggkNKwtR"
      },
      "outputs": [],
      "source": [
        "input_shape = (128, 128)\n",
        "num_classes = 38\n",
        "batch_size = 16"
      ]
    },
    {
      "cell_type": "markdown",
      "metadata": {
        "id": "omtA0V3fKtg_"
      },
      "source": [
        "In this step, we define important parameters that will be used throughout the model building and training process:\n",
        "*   **input_shape = (128, 128)**: This is a tuple representing the height and width of the input images that the model will process. In our case, we resize the images to 128x128 pixels. This parameter is important because it determines the dimensions of the input tensor that the model will expect during training and evaluation.\n",
        "*   **num_classes = 38**: This is the number of unique classes in the dataset. In the PlantVillage dataset, there are 38 distinct plant diseases. This parameter is essential for defining the output layer of the model, as it specifies the number of output neurons (each corresponding to a class) in the final layer.\n",
        "*   **batch_size = 16**: This is the number of examples that will be processed in a single batch during training and evaluation. A smaller batch size can help improve generalization and reduce memory usage, while a larger batch size can lead to faster training. It's important to select an appropriate batch size based on the available resources and the specific problem being solved.\n",
        "\n",
        "These parameters are essential for defining the model architecture, as well as controlling the training process. Choosing appropriate values for these parameters can significantly impact the model's performance and training efficiency."
      ]
    },
    {
      "cell_type": "markdown",
      "metadata": {
        "id": "vQ9P44vDLWFr"
      },
      "source": [
        "## 4. Preprocess the images and labels"
      ]
    },
    {
      "cell_type": "code",
      "execution_count": 7,
      "metadata": {
        "id": "bIvNIaS1LYhz"
      },
      "outputs": [],
      "source": [
        "def preprocess(image, label):\n",
        "    # Resize the image to the specified input shape and normalize pixel values to [0, 1]\n",
        "    image = tf.image.resize(image, input_shape) / 255.0\n",
        "    return image, label\n",
        "\n",
        "# Apply preprocessing to the train and test datasets, create batches, and prefetch the data for faster access.\n",
        "\n",
        "train_dataset = train_dataset.map(preprocess).batch(batch_size).prefetch(tf.data.experimental.AUTOTUNE)\n",
        "test_dataset = test_dataset.map(preprocess).batch(batch_size).prefetch(tf.data.experimental.AUTOTUNE)"
      ]
    },
    {
      "cell_type": "markdown",
      "metadata": {
        "id": "oQKNdEYcLjky"
      },
      "source": [
        "In this step, we define a preprocessing function and apply it to the training and testing datasets:\n",
        "*   **preprocess(image, label)**: This function takes an image and its corresponding label as input. Inside the function, we resize the image to the specified **input_shape** (128x128 pixels in our case) and normalize its pixel values to the range [0, 1] by dividing by 255. The preprocessed image and the original label are then returned.\n",
        "*   **train_dataset = train_dataset.map(preprocess).batch(batch_size).prefetch(tf.data.experimental.AUTOTUNE)**: We apply the preprocessing function to the training dataset using the **map** method. Then, we create batches of the specified **batch_size** (16 in our case) using the **batch** method. Finally, we use the **prefetch** method with **tf.data.experimental.AUTOTUNE** to load the data more efficiently during training.\n",
        "*   **test_dataset = test_dataset.map(preprocess).batch(batch_size).prefetch(tf.data.experimental.AUTOTUNE)**: We apply the same preprocessing, batching, and prefetching steps to the testing dataset.\n",
        "\n",
        "Preprocessing the images ensures the model receives consistent input during training and evaluation. Resizing the images to a fixed shape allows the model to process the data more efficiently while normalizing pixel values helps improve the model's training convergence. Batching and prefetching the data can significantly speed up the training process by reducing the time spent loading the data."
      ]
    },
    {
      "cell_type": "markdown",
      "metadata": {
        "id": "185w8x4YMo_z"
      },
      "source": [
        "## 5. Load the pre-trained MobileNetV2 model without the top classification layer"
      ]
    },
    {
      "cell_type": "code",
      "execution_count": 8,
      "metadata": {
        "colab": {
          "base_uri": "https://localhost:8080/"
        },
        "id": "D2kH-6V7MsST",
        "outputId": "43694cc6-8555-464f-ba44-527576660a44"
      },
      "outputs": [],
      "source": [
        "base_model = MobileNetV2(weights=\"imagenet\", include_top=False, input_shape=(*input_shape, 3))"
      ]
    },
    {
      "cell_type": "markdown",
      "metadata": {
        "id": "aPynfLbXMu_Y"
      },
      "source": [
        "In this step, we load the pre-trained MobileNetV2 model as the base model for our image classification task:\n",
        "*   **weights=\"imagenet\"**: This specifies that we want to use the model weights pre-trained on the ImageNet dataset. Pre-trained weights provide a good starting point for our model, as they have already learned useful features from a large dataset that can be transferred to our specific task.\n",
        "*   **include_top=False**: This option excludes the top classification layer of the original MobileNetV2 model. By doing so, we can add custom layers on top of the base model to adapt it to our specific problem.\n",
        "*    **input_shape=(*input_shape, 3)**: This sets the expected input shape of the base model to match the shape of our preprocessed images (128x128 pixels with 3 color channels).\n",
        "\n",
        "Loading a pre-trained model like MobileNetV2 significantly speeds up the training process and improves its performance, as it has already learned valuable features from a large and diverse dataset. By removing the top classification layer and adding custom layers, we can adapt the base model to our specific task while benefiting from the transfer learning process."
      ]
    },
    {
      "cell_type": "markdown",
      "metadata": {
        "id": "GlKjRucQNgJx"
      },
      "source": [
        "## 6. Add custom layers on top of the pre-trained base model"
      ]
    },
    {
      "cell_type": "code",
      "execution_count": 9,
      "metadata": {
        "id": "R6yvR7NmNjCF"
      },
      "outputs": [],
      "source": [
        "x = base_model.output\n",
        "x = GlobalAveragePooling2D()(x)\n",
        "x = Dense(1024, activation=\"relu\")(x)\n",
        "x = Dropout(0.5)(x)\n",
        "predictions = Dense(num_classes, activation=\"softmax\")(x)"
      ]
    },
    {
      "cell_type": "markdown",
      "metadata": {
        "id": "ZQ7uU2TAN5lj"
      },
      "source": [
        "In this step, custom layers are added on top of the pre-trained base model (MobileNetV2) to tailor it to the specific image classification task using the PlantVillage dataset:\n",
        "*   **x = base_model.output**: The output of the pre-trained base model is extracted and used as the input for the custom layers.\n",
        "*   **x = GlobalAveragePooling2D()(x)**: A Global Average Pooling 2D (GAP) layer is added. This layer reduces the spatial dimensions of the feature maps by computing the average value of each feature map. The GAP layer helps reduce the number of parameters in the model and is less prone to overfitting compared to a fully connected layer. It also helps the model adapt to different input sizes.\n",
        "*   **x = Dense(1024, activation=\"relu\")(x)**: A fully connected (Dense) layer with 1024 units and ReLU (Rectified Linear Unit) activation is added. This layer helps the model learn high-level features specific to the PlantVillage dataset. The ReLU activation function introduces non-linearity into the model, allowing it to learn complex patterns in the data.\n",
        "*   **x = Dropout(0.5)(x)**: A Dropout layer is added with a dropout rate of 0.5 (50%). During training, this layer randomly sets a fraction (50% in this case) of the input units to 0 at each update, which helps prevent overfitting. The Dropout layer acts as a regularization technique by encouraging the model to learn robust features that are not dependent on specific input units.\n",
        "*   **predictions = Dense(num_classes, activation=\"softmax\")(x)**: A final output (Dense) layer with num_classes units (38 in this case) and softmax activation is added. The softmax activation function ensures that the output of the model is a probability distribution over the classes, making it suitable for multi-class classification. Each unit in the output layer corresponds to a class in the PlantVillage dataset, and the softmax activation assigns a probability to each class."
      ]
    },
    {
      "cell_type": "markdown",
      "metadata": {
        "id": "gCSyKbrcOvJr"
      },
      "source": [
        "## 7. Create the final model"
      ]
    },
    {
      "cell_type": "code",
      "execution_count": 10,
      "metadata": {
        "id": "J0t0OP5sOr0l"
      },
      "outputs": [],
      "source": [
        "model = Model(inputs=base_model.input, outputs=predictions)"
      ]
    },
    {
      "cell_type": "markdown",
      "metadata": {
        "id": "5BFarcFDOzJy"
      },
      "source": [
        "In this step, the final model is created by combining the pre-trained base model (MobileNetV2) and the custom layers added in the previous step.\n",
        "*   **model = Model(inputs=base_model.input, outputs=predictions)**: This line creates a new Model object, specifying the input and output layers.\n",
        "*   **inputs=base_model.input**: The input of the final model is set to the input of the pre-trained base model. This ensures that the images fed to the final model are first passed through the pre-trained base model.\n",
        "*   **outputs=predictions**: The output of the final model is set to the output of the custom layers, which is the predictions variable. This connects the custom layers to the pre-trained base model, creating an end-to-end model architecture that can be used for training and evaluation on the PlantVillage dataset."
      ]
    },
    {
      "cell_type": "markdown",
      "metadata": {
        "id": "mbIZE5HcPSu0"
      },
      "source": [
        "## 8. Freeze the base model layers to prevent them from being updated during initial training"
      ]
    },
    {
      "cell_type": "code",
      "execution_count": 11,
      "metadata": {
        "id": "A3LBwBN6PV5t"
      },
      "outputs": [],
      "source": [
        "for layer in base_model.layers:\n",
        "  layer.trainable = False"
      ]
    },
    {
      "cell_type": "markdown",
      "metadata": {
        "id": "t5trarqTPcyn"
      },
      "source": [
        "In this step, the layers of the pre-trained base model (MobileNetV2) are frozen to prevent them from being updated during the initial training phase.\n",
        "*   **for layer in base_model.layers: layer.trainable = False**: This loop iterates over all the layers in the base model and sets their trainable attribute to False. When a layer's trainable attribute is set to False, its weights and biases are not updated during training, effectively \"freezing\" the layer."
      ]
    },
    {
      "cell_type": "markdown",
      "metadata": {
        "id": "17sSBJzHPt-G"
      },
      "source": [
        "## 9. Compile the model for training"
      ]
    },
    {
      "cell_type": "code",
      "execution_count": 12,
      "metadata": {
        "id": "hbC9r9v4PwaF"
      },
      "outputs": [],
      "source": [
        "model.compile(optimizer=Adam(learning_rate=0.001), loss=\"sparse_categorical_crossentropy\", metrics=[\"accuracy\"])"
      ]
    },
    {
      "cell_type": "markdown",
      "metadata": {
        "id": "wyirYqduPz87"
      },
      "source": [
        "In this step, the model is compiled for training by specifying the optimizer, loss function, and evaluation metrics.\n",
        "*   **optimizer=Adam(learning_rate=0.001)**: The Adam optimizer is chosen for updating the model's weights during training. The learning rate is set to 0.001, which determines the step size taken in the weight update process. The learning rate can affect the model's convergence speed and the quality of the final weights. A smaller learning rate might result in slower convergence but potentially better final weights, while a larger learning rate can lead to faster convergence but possibly less accurate final weights.\n",
        "*   **loss=\"sparse_categorical_crossentropy\"**: The sparse categorical crossentropy loss function is specified for the multi-class classification task. This loss function measures the difference between the true labels and the predicted probabilities output by the model. It's called \"sparse\" because the true labels are provided as integers (e.g., 0, 1, 2), rather than one-hot encoded vectors. The goal during training is to minimize this loss, which would result in better classification accuracy.\n",
        "*   **metrics=[\"accuracy\"]**: The accuracy metric is chosen for evaluating the model's performance during training and validation. Accuracy is the proportion of correctly classified images out of the total number of images. By tracking the accuracy metric, you can monitor the model's progress and see how well it's learning to classify images in the PlantVillage dataset."
      ]
    },
    {
      "cell_type": "markdown",
      "metadata": {
        "id": "FaQYnt4IQc3x"
      },
      "source": [
        "## 10. Train the model with the custom layers while keeping the base model layers frozen"
      ]
    },
    {
      "cell_type": "code",
      "execution_count": 13,
      "metadata": {
        "colab": {
          "base_uri": "https://localhost:8080/"
        },
        "id": "NvxbOho9QjLy",
        "outputId": "43cbdc5e-9a2d-4f74-9e2d-fd037542a6df"
      },
      "outputs": [
        {
          "name": "stdout",
          "output_type": "stream",
          "text": [
            "Epoch 1/7\n"
          ]
        },
        {
          "name": "stderr",
          "output_type": "stream",
          "text": [
            "2023-06-20 09:47:46.128335: W tensorflow/tsl/platform/profile_utils/cpu_utils.cc:128] Failed to get CPU frequency: 0 Hz\n"
          ]
        },
        {
          "name": "stdout",
          "output_type": "stream",
          "text": [
            "2716/2716 [==============================] - 111s 36ms/step - loss: 1.6166 - accuracy: 0.7758 - val_loss: 1.1816 - val_accuracy: 0.8612\n",
            "Epoch 2/7\n",
            "2716/2716 [==============================] - 105s 36ms/step - loss: 1.7934 - accuracy: 0.8550 - val_loss: 1.1237 - val_accuracy: 0.8963\n",
            "Epoch 3/7\n",
            "2716/2716 [==============================] - 104s 36ms/step - loss: 1.9330 - accuracy: 0.8779 - val_loss: 1.6262 - val_accuracy: 0.8919\n",
            "Epoch 4/7\n",
            "2716/2716 [==============================] - 104s 35ms/step - loss: 2.0345 - accuracy: 0.8915 - val_loss: 1.4699 - val_accuracy: 0.9048\n",
            "Epoch 5/7\n",
            "2716/2716 [==============================] - 106s 36ms/step - loss: 2.0141 - accuracy: 0.9009 - val_loss: 1.2185 - val_accuracy: 0.9213\n",
            "Epoch 6/7\n",
            "2716/2716 [==============================] - 105s 36ms/step - loss: 2.1242 - accuracy: 0.9063 - val_loss: 1.6368 - val_accuracy: 0.9183\n",
            "Epoch 7/7\n",
            "2716/2716 [==============================] - 105s 36ms/step - loss: 2.1503 - accuracy: 0.9130 - val_loss: 0.8973 - val_accuracy: 0.9500\n"
          ]
        }
      ],
      "source": [
        "history = model.fit(train_dataset, epochs=7, validation_data=test_dataset)"
      ]
    },
    {
      "cell_type": "markdown",
      "metadata": {
        "id": "ew43EytwQmfo"
      },
      "source": [
        "In this step, the model is trained on the PlantVillage dataset using the custom layers, while keeping the base model layers frozen:\n",
        "*   **train_dataset**: The preprocessed training dataset is provided as input for training. The dataset consists of images and their corresponding labels, which the model will use to update its weights and learn the features specific to the PlantVillage dataset.\n",
        "*   **epochs=7**: The number of training epochs is set to 7. An epoch is a complete iteration through the entire training dataset. By specifying 7 epochs, the model will go through the entire dataset 7 times, updating its weights and biases with each iteration to minimize the loss function. The number of epochs can affect the model's performance, as too few epochs might lead to underfitting, while too many epochs can cause overfitting. Experimenting with the number of epochs is important to find the best balance for your specific task.\n",
        "*   **validation_data=test_dataset**: The preprocessed test dataset is provided for validation during training. The validation dataset is not used to update the model's weights but is instead used to evaluate the model's performance on unseen data. By monitoring the model's performance on the validation dataset, you can track how well the model generalizes to new data, helping you to identify potential issues such as overfitting.\n",
        "\n",
        "The **history** variable stores the training history, including the training and validation loss and accuracy values for each epoch. You can use this information to visualize the training progress and adjust the model or training parameters as needed.\n",
        "\n",
        "By training the model with the custom layers while keeping the base model layers frozen, you can leverage the pre-trained features from the MobileNetV2 model and learn new high-level features specific to the PlantVillage dataset. This approach allows you to create a powerful image classification model with less training time and computational resources than training a model from scratch."
      ]
    },
    {
      "cell_type": "markdown",
      "metadata": {
        "id": "10-pAfnNRNYj"
      },
      "source": [
        "## 11. Unfreeze all layers of the model"
      ]
    },
    {
      "cell_type": "code",
      "execution_count": 14,
      "metadata": {
        "id": "OMqgaobwRRWC"
      },
      "outputs": [],
      "source": [
        "for layer in model.layers[:]:\n",
        "  layer.trainable = True"
      ]
    },
    {
      "cell_type": "markdown",
      "metadata": {
        "id": "4njczWpsRbQc"
      },
      "source": [
        "In this step, all the layers of the model, including the base model layers, are unfrozen to allow them to be updated during the fine-tuning phase:\n",
        "*   **for layer in model.layers[:]**: This loop iterates over all layers in the entire model (both the pre-trained base model and custom layers) and sets their **trainable** attribute to **True**.\n",
        "*   **layer.trainable = True**: When a layer's **trainable** attribute is set to **True**, its weights and biases can be updated during training.\n",
        "\n",
        "Unfreezing all the layers of the model has several benefits:\n",
        "*   Fine-tuning: By allowing the base model layers to be updated, the model can further fine-tune its weights on the PlantVillage dataset. This can improve the model's performance, as the pre-trained features can be adapted more specifically to the target dataset.\n",
        "*   Learning dataset-specific features: By updating the weights of the base model layers, the model can learn dataset-specific features that were not present in the original ImageNet dataset. This can enhance the model's ability to recognize and classify images from the PlantVillage dataset.\n",
        "\n",
        "It's important to note that when unfreezing the base model layers, using a lower learning rate during training is usually a good idea to avoid overwriting the pre-trained features too quickly. The lower learning rate allows the model to make more minor weight adjustments, preserving the learned features while adapting them to the specific dataset."
      ]
    },
    {
      "cell_type": "markdown",
      "metadata": {
        "id": "GFggQh4ESKlF"
      },
      "source": [
        "## 12. Compile the model with a lower learning rate for fine-tuning"
      ]
    },
    {
      "cell_type": "code",
      "execution_count": 15,
      "metadata": {
        "id": "sXIyPFqGSNIc"
      },
      "outputs": [],
      "source": [
        "model.compile(optimizer=Adam(learning_rate=0.0001), loss=\"sparse_categorical_crossentropy\", metrics=[\"accuracy\"])"
      ]
    },
    {
      "cell_type": "markdown",
      "metadata": {
        "id": "zm0eKxWhSRND"
      },
      "source": [
        "In this step, the model is compiled again with a lower learning rate for fine-tuning. This is done to ensure that the pre-trained features in the base model layers are not drastically altered during the fine-tuning phase, allowing the model to maintain its previously learned features while adapting to the specific dataset:\n",
        "*   **optimizer=Adam(learning_rate=0.0001)**: The learning rate for the Adam optimizer is now set to a lower value (0.0001) than the initial training phase (0.001). A lower learning rate ensures that the model weights are updated with smaller steps, allowing for a more controlled fine-tuning process. This helps preserve the pre-trained features in the base model layers while allowing the model to adapt to the specific PlantVillage dataset.\n",
        "*   **loss=\"sparse_categorical_crossentropy\"**: The sparse categorical cross-entropy loss function for the multi-class classification task.\n",
        "*   **metrics=[\"accuracy\"]**: The accuracy metric for evaluating the model's performance during training and validation.\n",
        "\n",
        "By compiling the model with a lower learning rate for fine-tuning, you can better control the weight updates and ensure that the pre-trained features are not drastically altered, potentially leading to a more accurate and robust model."
      ]
    },
    {
      "cell_type": "markdown",
      "metadata": {
        "id": "21FkduhESw1U"
      },
      "source": [
        "## 13. Fine-tune the entire model with a lower learning rate"
      ]
    },
    {
      "cell_type": "code",
      "execution_count": 16,
      "metadata": {
        "id": "G5M_ZneYS0LZ"
      },
      "outputs": [
        {
          "name": "stdout",
          "output_type": "stream",
          "text": [
            "Epoch 1/4\n",
            "2716/2716 [==============================] - 279s 97ms/step - loss: 3.7241 - accuracy: 0.8771 - val_loss: 2.3005 - val_accuracy: 0.8960\n",
            "Epoch 2/4\n",
            "2716/2716 [==============================] - 268s 96ms/step - loss: 1.1601 - accuracy: 0.9329 - val_loss: 0.6320 - val_accuracy: 0.9564\n",
            "Epoch 3/4\n",
            "2716/2716 [==============================] - 266s 95ms/step - loss: 0.8333 - accuracy: 0.9423 - val_loss: 0.4277 - val_accuracy: 0.9592\n",
            "Epoch 4/4\n",
            "2716/2716 [==============================] - 266s 95ms/step - loss: 0.6708 - accuracy: 0.9488 - val_loss: 0.5861 - val_accuracy: 0.9550\n"
          ]
        }
      ],
      "source": [
        "history_finetune = model.fit(train_dataset, epochs=4, validation_data=test_dataset)"
      ]
    },
    {
      "cell_type": "markdown",
      "metadata": {
        "id": "bu-oPtRcS5zV"
      },
      "source": [
        "In this step, the entire model, including the previously frozen base model layers, is fine-tuned with a lower learning rate:\n",
        "*   **train_dataset**: The preprocessed training dataset is provided as input for fine-tuning. The dataset consists of images and their corresponding labels, which the model will use to update its weights and learn the features specific to the PlantVillage dataset.\n",
        "*   **epochs=4**: The number of fine-tuning epochs is set to 4. The model will go through the entire dataset 4 times, updating its weights and biases with each iteration. This is a separate count from the initial training phase, meaning the model will have trained for a total of 11 epochs (7 initial + 4 fine-tuning). The choice of the number of fine-tuning epochs depends on the specific problem and dataset, and it may require experimentation to find the best balance between underfitting and overfitting.\n",
        "*   **validation_data=test_dataset**: The preprocessed test dataset is provided for validation during fine-tuning. The validation dataset is not used to update the model's weights but to evaluate the model's performance on unseen data. Monitoring the model's performance on the validation dataset can help you identify potential issues, such as overfitting or underfitting.\n",
        "\n",
        "The history_finetune variable stores the fine-tuning history, which includes the training and validation loss and accuracy values for each epoch. You can use this information to visualize the fine-tuning progress and make adjustments to the model or training parameters as needed.\n",
        "\n",
        "By fine-tuning the entire model with a lower learning rate, you can further adapt the pre-trained features to the PlantVillage dataset, potentially improving the model's performance and generalization to unseen data."
      ]
    },
    {
      "cell_type": "markdown",
      "metadata": {
        "id": "X5xd4Q_lTakK"
      },
      "source": [
        "## 14. Evaluate the model on the test dataset"
      ]
    },
    {
      "cell_type": "code",
      "execution_count": 17,
      "metadata": {
        "id": "37qromIPTpfq"
      },
      "outputs": [
        {
          "name": "stdout",
          "output_type": "stream",
          "text": [
            "679/679 [==============================] - 25s 25ms/step - loss: 0.5849 - accuracy: 0.9544\n"
          ]
        },
        {
          "data": {
            "text/plain": [
              "[0.5849285125732422, 0.9544241428375244]"
            ]
          },
          "execution_count": 17,
          "metadata": {},
          "output_type": "execute_result"
        }
      ],
      "source": [
        "model.evaluate(test_dataset)"
      ]
    },
    {
      "cell_type": "markdown",
      "metadata": {
        "id": "vBWPPxF4TtCp"
      },
      "source": [
        "In this step, the fine-tuned model is evaluated on the test dataset. The evaluate method computes the model's performance metrics (loss and accuracy in this case) on the test dataset. The test dataset consists of images and labels that the model has not seen during training or fine-tuning, providing an unbiased evaluation of the model's generalization ability on new, unseen data.\n",
        "\n",
        "The results you provided indicate the following:\n",
        "*   **loss: 0.0559**: The model's computed loss value on the test dataset is 0.0559. The loss value is obtained using the sparse categorical cross-entropy loss function, which measures the difference between the true labels and the model's predicted probabilities for each class. A lower loss value indicates better performance and better alignment between the model's predictions and the true labels.\n",
        "*   **accuracy: 0.9810**: The model's accuracy on the test dataset is 0.9810 (98.10%). This means that the model correctly classified 98.10% of the images in the test dataset. Accuracy is a commonly used metric to measure the performance of a classification model. The higher the accuracy, the better the model's ability to correctly classify images.\n",
        "\n",
        "Your results (loss: 0.0559, accuracy: 0.9810) indicate that the fine-tuned model performs well on the test dataset, achieving a high accuracy of 98.10%. This suggests that the model has successfully learned to recognize and classify images from the PlantVillage dataset and is expected to generalize well to new, unseen data."
      ]
    },
    {
      "attachments": {},
      "cell_type": "markdown",
      "metadata": {},
      "source": [
        "# 15. Save the model"
      ]
    },
    {
      "cell_type": "code",
      "execution_count": 18,
      "metadata": {},
      "outputs": [
        {
          "name": "stderr",
          "output_type": "stream",
          "text": [
            "WARNING:absl:Found untraced functions such as _jit_compiled_convolution_op, _jit_compiled_convolution_op, _jit_compiled_convolution_op, _jit_compiled_convolution_op, _jit_compiled_convolution_op while saving (showing 5 of 52). These functions will not be directly callable after loading.\n"
          ]
        },
        {
          "name": "stdout",
          "output_type": "stream",
          "text": [
            "INFO:tensorflow:Assets written to: ./[2023-06-20T10:19:00]_plant_diseases/assets\n"
          ]
        },
        {
          "name": "stderr",
          "output_type": "stream",
          "text": [
            "INFO:tensorflow:Assets written to: ./[2023-06-20T10:19:00]_plant_diseases/assets\n"
          ]
        }
      ],
      "source": [
        "model.save(\"./[2023-06-20T10:19:00]_plant_diseases\")"
      ]
    }
  ],
  "metadata": {
    "accelerator": "GPU",
    "colab": {
      "gpuType": "T4",
      "provenance": []
    },
    "kernelspec": {
      "display_name": "Python 3",
      "name": "python3"
    },
    "language_info": {
      "codemirror_mode": {
        "name": "ipython",
        "version": 3
      },
      "file_extension": ".py",
      "mimetype": "text/x-python",
      "name": "python",
      "nbconvert_exporter": "python",
      "pygments_lexer": "ipython3",
      "version": "3.8.17"
    },
    "widgets": {
      "application/vnd.jupyter.widget-state+json": {
        "01c4ea8e8c84441cab736ae6056c7e30": {
          "model_module": "@jupyter-widgets/base",
          "model_module_version": "1.2.0",
          "model_name": "LayoutModel",
          "state": {
            "_model_module": "@jupyter-widgets/base",
            "_model_module_version": "1.2.0",
            "_model_name": "LayoutModel",
            "_view_count": null,
            "_view_module": "@jupyter-widgets/base",
            "_view_module_version": "1.2.0",
            "_view_name": "LayoutView",
            "align_content": null,
            "align_items": null,
            "align_self": null,
            "border": null,
            "bottom": null,
            "display": null,
            "flex": null,
            "flex_flow": null,
            "grid_area": null,
            "grid_auto_columns": null,
            "grid_auto_flow": null,
            "grid_auto_rows": null,
            "grid_column": null,
            "grid_gap": null,
            "grid_row": null,
            "grid_template_areas": null,
            "grid_template_columns": null,
            "grid_template_rows": null,
            "height": null,
            "justify_content": null,
            "justify_items": null,
            "left": null,
            "margin": null,
            "max_height": null,
            "max_width": null,
            "min_height": null,
            "min_width": null,
            "object_fit": null,
            "object_position": null,
            "order": null,
            "overflow": null,
            "overflow_x": null,
            "overflow_y": null,
            "padding": null,
            "right": null,
            "top": null,
            "visibility": null,
            "width": "20px"
          }
        },
        "01ca6f1a5bd241b584a343133fd7f754": {
          "model_module": "@jupyter-widgets/controls",
          "model_module_version": "1.5.0",
          "model_name": "HBoxModel",
          "state": {
            "_dom_classes": [],
            "_model_module": "@jupyter-widgets/controls",
            "_model_module_version": "1.5.0",
            "_model_name": "HBoxModel",
            "_view_count": null,
            "_view_module": "@jupyter-widgets/controls",
            "_view_module_version": "1.5.0",
            "_view_name": "HBoxView",
            "box_style": "",
            "children": [
              "IPY_MODEL_639ef0eefd5b42e9867987515a3d7dc9",
              "IPY_MODEL_954aedb623c14b92a69f99dac3227027",
              "IPY_MODEL_a5dae2332b934b299927b252d975ae5e"
            ],
            "layout": "IPY_MODEL_2ab30645c32449f6a1354294e0f63e09"
          }
        },
        "029985a8f92b4dc4b85f5f0f8ebe8b75": {
          "model_module": "@jupyter-widgets/base",
          "model_module_version": "1.2.0",
          "model_name": "LayoutModel",
          "state": {
            "_model_module": "@jupyter-widgets/base",
            "_model_module_version": "1.2.0",
            "_model_name": "LayoutModel",
            "_view_count": null,
            "_view_module": "@jupyter-widgets/base",
            "_view_module_version": "1.2.0",
            "_view_name": "LayoutView",
            "align_content": null,
            "align_items": null,
            "align_self": null,
            "border": null,
            "bottom": null,
            "display": null,
            "flex": null,
            "flex_flow": null,
            "grid_area": null,
            "grid_auto_columns": null,
            "grid_auto_flow": null,
            "grid_auto_rows": null,
            "grid_column": null,
            "grid_gap": null,
            "grid_row": null,
            "grid_template_areas": null,
            "grid_template_columns": null,
            "grid_template_rows": null,
            "height": null,
            "justify_content": null,
            "justify_items": null,
            "left": null,
            "margin": null,
            "max_height": null,
            "max_width": null,
            "min_height": null,
            "min_width": null,
            "object_fit": null,
            "object_position": null,
            "order": null,
            "overflow": null,
            "overflow_x": null,
            "overflow_y": null,
            "padding": null,
            "right": null,
            "top": null,
            "visibility": null,
            "width": null
          }
        },
        "03276f643ce14e42a549cb012c11c7ef": {
          "model_module": "@jupyter-widgets/controls",
          "model_module_version": "1.5.0",
          "model_name": "DescriptionStyleModel",
          "state": {
            "_model_module": "@jupyter-widgets/controls",
            "_model_module_version": "1.5.0",
            "_model_name": "DescriptionStyleModel",
            "_view_count": null,
            "_view_module": "@jupyter-widgets/base",
            "_view_module_version": "1.2.0",
            "_view_name": "StyleView",
            "description_width": ""
          }
        },
        "0994804d524e464da2c56b3c82df5f07": {
          "model_module": "@jupyter-widgets/base",
          "model_module_version": "1.2.0",
          "model_name": "LayoutModel",
          "state": {
            "_model_module": "@jupyter-widgets/base",
            "_model_module_version": "1.2.0",
            "_model_name": "LayoutModel",
            "_view_count": null,
            "_view_module": "@jupyter-widgets/base",
            "_view_module_version": "1.2.0",
            "_view_name": "LayoutView",
            "align_content": null,
            "align_items": null,
            "align_self": null,
            "border": null,
            "bottom": null,
            "display": null,
            "flex": null,
            "flex_flow": null,
            "grid_area": null,
            "grid_auto_columns": null,
            "grid_auto_flow": null,
            "grid_auto_rows": null,
            "grid_column": null,
            "grid_gap": null,
            "grid_row": null,
            "grid_template_areas": null,
            "grid_template_columns": null,
            "grid_template_rows": null,
            "height": null,
            "justify_content": null,
            "justify_items": null,
            "left": null,
            "margin": null,
            "max_height": null,
            "max_width": null,
            "min_height": null,
            "min_width": null,
            "object_fit": null,
            "object_position": null,
            "order": null,
            "overflow": null,
            "overflow_x": null,
            "overflow_y": null,
            "padding": null,
            "right": null,
            "top": null,
            "visibility": null,
            "width": null
          }
        },
        "0bbf24ab7dfc4c949c1ac759c9958a64": {
          "model_module": "@jupyter-widgets/controls",
          "model_module_version": "1.5.0",
          "model_name": "ProgressStyleModel",
          "state": {
            "_model_module": "@jupyter-widgets/controls",
            "_model_module_version": "1.5.0",
            "_model_name": "ProgressStyleModel",
            "_view_count": null,
            "_view_module": "@jupyter-widgets/base",
            "_view_module_version": "1.2.0",
            "_view_name": "StyleView",
            "bar_color": null,
            "description_width": ""
          }
        },
        "1614a956eaaa450cbcb45218d88dbc77": {
          "model_module": "@jupyter-widgets/base",
          "model_module_version": "1.2.0",
          "model_name": "LayoutModel",
          "state": {
            "_model_module": "@jupyter-widgets/base",
            "_model_module_version": "1.2.0",
            "_model_name": "LayoutModel",
            "_view_count": null,
            "_view_module": "@jupyter-widgets/base",
            "_view_module_version": "1.2.0",
            "_view_name": "LayoutView",
            "align_content": null,
            "align_items": null,
            "align_self": null,
            "border": null,
            "bottom": null,
            "display": null,
            "flex": null,
            "flex_flow": null,
            "grid_area": null,
            "grid_auto_columns": null,
            "grid_auto_flow": null,
            "grid_auto_rows": null,
            "grid_column": null,
            "grid_gap": null,
            "grid_row": null,
            "grid_template_areas": null,
            "grid_template_columns": null,
            "grid_template_rows": null,
            "height": null,
            "justify_content": null,
            "justify_items": null,
            "left": null,
            "margin": null,
            "max_height": null,
            "max_width": null,
            "min_height": null,
            "min_width": null,
            "object_fit": null,
            "object_position": null,
            "order": null,
            "overflow": null,
            "overflow_x": null,
            "overflow_y": null,
            "padding": null,
            "right": null,
            "top": null,
            "visibility": null,
            "width": null
          }
        },
        "1b7f4ff764d44db4914089784a8650f7": {
          "model_module": "@jupyter-widgets/controls",
          "model_module_version": "1.5.0",
          "model_name": "DescriptionStyleModel",
          "state": {
            "_model_module": "@jupyter-widgets/controls",
            "_model_module_version": "1.5.0",
            "_model_name": "DescriptionStyleModel",
            "_view_count": null,
            "_view_module": "@jupyter-widgets/base",
            "_view_module_version": "1.2.0",
            "_view_name": "StyleView",
            "description_width": ""
          }
        },
        "20aca63153ea4e8e9508773c0a23856a": {
          "model_module": "@jupyter-widgets/base",
          "model_module_version": "1.2.0",
          "model_name": "LayoutModel",
          "state": {
            "_model_module": "@jupyter-widgets/base",
            "_model_module_version": "1.2.0",
            "_model_name": "LayoutModel",
            "_view_count": null,
            "_view_module": "@jupyter-widgets/base",
            "_view_module_version": "1.2.0",
            "_view_name": "LayoutView",
            "align_content": null,
            "align_items": null,
            "align_self": null,
            "border": null,
            "bottom": null,
            "display": null,
            "flex": null,
            "flex_flow": null,
            "grid_area": null,
            "grid_auto_columns": null,
            "grid_auto_flow": null,
            "grid_auto_rows": null,
            "grid_column": null,
            "grid_gap": null,
            "grid_row": null,
            "grid_template_areas": null,
            "grid_template_columns": null,
            "grid_template_rows": null,
            "height": null,
            "justify_content": null,
            "justify_items": null,
            "left": null,
            "margin": null,
            "max_height": null,
            "max_width": null,
            "min_height": null,
            "min_width": null,
            "object_fit": null,
            "object_position": null,
            "order": null,
            "overflow": null,
            "overflow_x": null,
            "overflow_y": null,
            "padding": null,
            "right": null,
            "top": null,
            "visibility": null,
            "width": "20px"
          }
        },
        "2ab30645c32449f6a1354294e0f63e09": {
          "model_module": "@jupyter-widgets/base",
          "model_module_version": "1.2.0",
          "model_name": "LayoutModel",
          "state": {
            "_model_module": "@jupyter-widgets/base",
            "_model_module_version": "1.2.0",
            "_model_name": "LayoutModel",
            "_view_count": null,
            "_view_module": "@jupyter-widgets/base",
            "_view_module_version": "1.2.0",
            "_view_name": "LayoutView",
            "align_content": null,
            "align_items": null,
            "align_self": null,
            "border": null,
            "bottom": null,
            "display": null,
            "flex": null,
            "flex_flow": null,
            "grid_area": null,
            "grid_auto_columns": null,
            "grid_auto_flow": null,
            "grid_auto_rows": null,
            "grid_column": null,
            "grid_gap": null,
            "grid_row": null,
            "grid_template_areas": null,
            "grid_template_columns": null,
            "grid_template_rows": null,
            "height": null,
            "justify_content": null,
            "justify_items": null,
            "left": null,
            "margin": null,
            "max_height": null,
            "max_width": null,
            "min_height": null,
            "min_width": null,
            "object_fit": null,
            "object_position": null,
            "order": null,
            "overflow": null,
            "overflow_x": null,
            "overflow_y": null,
            "padding": null,
            "right": null,
            "top": null,
            "visibility": null,
            "width": null
          }
        },
        "2fb26b73c48f436ea38987ee3de850b3": {
          "model_module": "@jupyter-widgets/controls",
          "model_module_version": "1.5.0",
          "model_name": "DescriptionStyleModel",
          "state": {
            "_model_module": "@jupyter-widgets/controls",
            "_model_module_version": "1.5.0",
            "_model_name": "DescriptionStyleModel",
            "_view_count": null,
            "_view_module": "@jupyter-widgets/base",
            "_view_module_version": "1.2.0",
            "_view_name": "StyleView",
            "description_width": ""
          }
        },
        "337ea4f4b2e34b6d84354aa6046cad4b": {
          "model_module": "@jupyter-widgets/controls",
          "model_module_version": "1.5.0",
          "model_name": "ProgressStyleModel",
          "state": {
            "_model_module": "@jupyter-widgets/controls",
            "_model_module_version": "1.5.0",
            "_model_name": "ProgressStyleModel",
            "_view_count": null,
            "_view_module": "@jupyter-widgets/base",
            "_view_module_version": "1.2.0",
            "_view_name": "StyleView",
            "bar_color": null,
            "description_width": ""
          }
        },
        "36b12bf42a57413eac1a62768ee89cb9": {
          "model_module": "@jupyter-widgets/controls",
          "model_module_version": "1.5.0",
          "model_name": "DescriptionStyleModel",
          "state": {
            "_model_module": "@jupyter-widgets/controls",
            "_model_module_version": "1.5.0",
            "_model_name": "DescriptionStyleModel",
            "_view_count": null,
            "_view_module": "@jupyter-widgets/base",
            "_view_module_version": "1.2.0",
            "_view_name": "StyleView",
            "description_width": ""
          }
        },
        "37aae2b08aae4c62a873844af4fef878": {
          "model_module": "@jupyter-widgets/controls",
          "model_module_version": "1.5.0",
          "model_name": "HTMLModel",
          "state": {
            "_dom_classes": [],
            "_model_module": "@jupyter-widgets/controls",
            "_model_module_version": "1.5.0",
            "_model_name": "HTMLModel",
            "_view_count": null,
            "_view_module": "@jupyter-widgets/controls",
            "_view_module_version": "1.5.0",
            "_view_name": "HTMLView",
            "description": "",
            "description_tooltip": null,
            "layout": "IPY_MODEL_029985a8f92b4dc4b85f5f0f8ebe8b75",
            "placeholder": "​",
            "style": "IPY_MODEL_971d9529206e4efeae51f84139d4f974",
            "value": " 1/1 [03:20&lt;00:00, 40.13s/ url]"
          }
        },
        "42f09acee4fe49aba6c684fc498f5dc3": {
          "model_module": "@jupyter-widgets/base",
          "model_module_version": "1.2.0",
          "model_name": "LayoutModel",
          "state": {
            "_model_module": "@jupyter-widgets/base",
            "_model_module_version": "1.2.0",
            "_model_name": "LayoutModel",
            "_view_count": null,
            "_view_module": "@jupyter-widgets/base",
            "_view_module_version": "1.2.0",
            "_view_name": "LayoutView",
            "align_content": null,
            "align_items": null,
            "align_self": null,
            "border": null,
            "bottom": null,
            "display": null,
            "flex": null,
            "flex_flow": null,
            "grid_area": null,
            "grid_auto_columns": null,
            "grid_auto_flow": null,
            "grid_auto_rows": null,
            "grid_column": null,
            "grid_gap": null,
            "grid_row": null,
            "grid_template_areas": null,
            "grid_template_columns": null,
            "grid_template_rows": null,
            "height": null,
            "justify_content": null,
            "justify_items": null,
            "left": null,
            "margin": null,
            "max_height": null,
            "max_width": null,
            "min_height": null,
            "min_width": null,
            "object_fit": null,
            "object_position": null,
            "order": null,
            "overflow": null,
            "overflow_x": null,
            "overflow_y": null,
            "padding": null,
            "right": null,
            "top": null,
            "visibility": null,
            "width": null
          }
        },
        "46a94e0d68fc4e42bdeaebc2f103cc26": {
          "model_module": "@jupyter-widgets/controls",
          "model_module_version": "1.5.0",
          "model_name": "HTMLModel",
          "state": {
            "_dom_classes": [],
            "_model_module": "@jupyter-widgets/controls",
            "_model_module_version": "1.5.0",
            "_model_name": "HTMLModel",
            "_view_count": null,
            "_view_module": "@jupyter-widgets/controls",
            "_view_module_version": "1.5.0",
            "_view_name": "HTMLView",
            "description": "",
            "description_tooltip": null,
            "layout": "IPY_MODEL_48d1563371a4457d9710e8ef52a97c49",
            "placeholder": "​",
            "style": "IPY_MODEL_4d7d3d308a834d66a56e6ee3fcfad390",
            "value": " 827/827 [03:20&lt;00:00, 21.36 MiB/s]"
          }
        },
        "48d1563371a4457d9710e8ef52a97c49": {
          "model_module": "@jupyter-widgets/base",
          "model_module_version": "1.2.0",
          "model_name": "LayoutModel",
          "state": {
            "_model_module": "@jupyter-widgets/base",
            "_model_module_version": "1.2.0",
            "_model_name": "LayoutModel",
            "_view_count": null,
            "_view_module": "@jupyter-widgets/base",
            "_view_module_version": "1.2.0",
            "_view_name": "LayoutView",
            "align_content": null,
            "align_items": null,
            "align_self": null,
            "border": null,
            "bottom": null,
            "display": null,
            "flex": null,
            "flex_flow": null,
            "grid_area": null,
            "grid_auto_columns": null,
            "grid_auto_flow": null,
            "grid_auto_rows": null,
            "grid_column": null,
            "grid_gap": null,
            "grid_row": null,
            "grid_template_areas": null,
            "grid_template_columns": null,
            "grid_template_rows": null,
            "height": null,
            "justify_content": null,
            "justify_items": null,
            "left": null,
            "margin": null,
            "max_height": null,
            "max_width": null,
            "min_height": null,
            "min_width": null,
            "object_fit": null,
            "object_position": null,
            "order": null,
            "overflow": null,
            "overflow_x": null,
            "overflow_y": null,
            "padding": null,
            "right": null,
            "top": null,
            "visibility": null,
            "width": null
          }
        },
        "4d7d3d308a834d66a56e6ee3fcfad390": {
          "model_module": "@jupyter-widgets/controls",
          "model_module_version": "1.5.0",
          "model_name": "DescriptionStyleModel",
          "state": {
            "_model_module": "@jupyter-widgets/controls",
            "_model_module_version": "1.5.0",
            "_model_name": "DescriptionStyleModel",
            "_view_count": null,
            "_view_module": "@jupyter-widgets/base",
            "_view_module_version": "1.2.0",
            "_view_name": "StyleView",
            "description_width": ""
          }
        },
        "5e94f6d46fe048a3a18f1053a8c9b3a9": {
          "model_module": "@jupyter-widgets/base",
          "model_module_version": "1.2.0",
          "model_name": "LayoutModel",
          "state": {
            "_model_module": "@jupyter-widgets/base",
            "_model_module_version": "1.2.0",
            "_model_name": "LayoutModel",
            "_view_count": null,
            "_view_module": "@jupyter-widgets/base",
            "_view_module_version": "1.2.0",
            "_view_name": "LayoutView",
            "align_content": null,
            "align_items": null,
            "align_self": null,
            "border": null,
            "bottom": null,
            "display": null,
            "flex": null,
            "flex_flow": null,
            "grid_area": null,
            "grid_auto_columns": null,
            "grid_auto_flow": null,
            "grid_auto_rows": null,
            "grid_column": null,
            "grid_gap": null,
            "grid_row": null,
            "grid_template_areas": null,
            "grid_template_columns": null,
            "grid_template_rows": null,
            "height": null,
            "justify_content": null,
            "justify_items": null,
            "left": null,
            "margin": null,
            "max_height": null,
            "max_width": null,
            "min_height": null,
            "min_width": null,
            "object_fit": null,
            "object_position": null,
            "order": null,
            "overflow": null,
            "overflow_x": null,
            "overflow_y": null,
            "padding": null,
            "right": null,
            "top": null,
            "visibility": null,
            "width": null
          }
        },
        "5f5c745506a04f98b5c245532888e129": {
          "model_module": "@jupyter-widgets/controls",
          "model_module_version": "1.5.0",
          "model_name": "HBoxModel",
          "state": {
            "_dom_classes": [],
            "_model_module": "@jupyter-widgets/controls",
            "_model_module_version": "1.5.0",
            "_model_name": "HBoxModel",
            "_view_count": null,
            "_view_module": "@jupyter-widgets/controls",
            "_view_module_version": "1.5.0",
            "_view_name": "HBoxView",
            "box_style": "",
            "children": [
              "IPY_MODEL_7986758cc9c04fca86a129308e861054",
              "IPY_MODEL_d5b58367394e4c12adb72d9543102cfb",
              "IPY_MODEL_c340d81c0bf34438a0614ccb3af4a15f"
            ],
            "layout": "IPY_MODEL_f8d5ed84f6864e3c95ef8068dfbc2f93"
          }
        },
        "639ef0eefd5b42e9867987515a3d7dc9": {
          "model_module": "@jupyter-widgets/controls",
          "model_module_version": "1.5.0",
          "model_name": "HTMLModel",
          "state": {
            "_dom_classes": [],
            "_model_module": "@jupyter-widgets/controls",
            "_model_module_version": "1.5.0",
            "_model_name": "HTMLModel",
            "_view_count": null,
            "_view_module": "@jupyter-widgets/controls",
            "_view_module_version": "1.5.0",
            "_view_name": "HTMLView",
            "description": "",
            "description_tooltip": null,
            "layout": "IPY_MODEL_1614a956eaaa450cbcb45218d88dbc77",
            "placeholder": "​",
            "style": "IPY_MODEL_dc1b5fec34794b5aabc0324343742fdb",
            "value": "Extraction completed...: 100%"
          }
        },
        "661ce2bd3f1545e9a0422a2e319aa438": {
          "model_module": "@jupyter-widgets/controls",
          "model_module_version": "1.5.0",
          "model_name": "FloatProgressModel",
          "state": {
            "_dom_classes": [],
            "_model_module": "@jupyter-widgets/controls",
            "_model_module_version": "1.5.0",
            "_model_name": "FloatProgressModel",
            "_view_count": null,
            "_view_module": "@jupyter-widgets/controls",
            "_view_module_version": "1.5.0",
            "_view_name": "ProgressView",
            "bar_style": "info",
            "description": "",
            "description_tooltip": null,
            "layout": "IPY_MODEL_20aca63153ea4e8e9508773c0a23856a",
            "max": 1,
            "min": 0,
            "orientation": "horizontal",
            "style": "IPY_MODEL_337ea4f4b2e34b6d84354aa6046cad4b",
            "value": 1
          }
        },
        "691dedc276ba4a168a2e5d96acf86fa3": {
          "model_module": "@jupyter-widgets/base",
          "model_module_version": "1.2.0",
          "model_name": "LayoutModel",
          "state": {
            "_model_module": "@jupyter-widgets/base",
            "_model_module_version": "1.2.0",
            "_model_name": "LayoutModel",
            "_view_count": null,
            "_view_module": "@jupyter-widgets/base",
            "_view_module_version": "1.2.0",
            "_view_name": "LayoutView",
            "align_content": null,
            "align_items": null,
            "align_self": null,
            "border": null,
            "bottom": null,
            "display": null,
            "flex": null,
            "flex_flow": null,
            "grid_area": null,
            "grid_auto_columns": null,
            "grid_auto_flow": null,
            "grid_auto_rows": null,
            "grid_column": null,
            "grid_gap": null,
            "grid_row": null,
            "grid_template_areas": null,
            "grid_template_columns": null,
            "grid_template_rows": null,
            "height": null,
            "justify_content": null,
            "justify_items": null,
            "left": null,
            "margin": null,
            "max_height": null,
            "max_width": null,
            "min_height": null,
            "min_width": null,
            "object_fit": null,
            "object_position": null,
            "order": null,
            "overflow": null,
            "overflow_x": null,
            "overflow_y": null,
            "padding": null,
            "right": null,
            "top": null,
            "visibility": null,
            "width": null
          }
        },
        "6ed6d6807a6b4b81bfd8b9272ba8a864": {
          "model_module": "@jupyter-widgets/controls",
          "model_module_version": "1.5.0",
          "model_name": "DescriptionStyleModel",
          "state": {
            "_model_module": "@jupyter-widgets/controls",
            "_model_module_version": "1.5.0",
            "_model_name": "DescriptionStyleModel",
            "_view_count": null,
            "_view_module": "@jupyter-widgets/base",
            "_view_module_version": "1.2.0",
            "_view_name": "StyleView",
            "description_width": ""
          }
        },
        "70f23c0b39984fb2b87ca3d7f5b3ee6e": {
          "model_module": "@jupyter-widgets/base",
          "model_module_version": "1.2.0",
          "model_name": "LayoutModel",
          "state": {
            "_model_module": "@jupyter-widgets/base",
            "_model_module_version": "1.2.0",
            "_model_name": "LayoutModel",
            "_view_count": null,
            "_view_module": "@jupyter-widgets/base",
            "_view_module_version": "1.2.0",
            "_view_name": "LayoutView",
            "align_content": null,
            "align_items": null,
            "align_self": null,
            "border": null,
            "bottom": null,
            "display": null,
            "flex": null,
            "flex_flow": null,
            "grid_area": null,
            "grid_auto_columns": null,
            "grid_auto_flow": null,
            "grid_auto_rows": null,
            "grid_column": null,
            "grid_gap": null,
            "grid_row": null,
            "grid_template_areas": null,
            "grid_template_columns": null,
            "grid_template_rows": null,
            "height": null,
            "justify_content": null,
            "justify_items": null,
            "left": null,
            "margin": null,
            "max_height": null,
            "max_width": null,
            "min_height": null,
            "min_width": null,
            "object_fit": null,
            "object_position": null,
            "order": null,
            "overflow": null,
            "overflow_x": null,
            "overflow_y": null,
            "padding": null,
            "right": null,
            "top": null,
            "visibility": null,
            "width": null
          }
        },
        "7986758cc9c04fca86a129308e861054": {
          "model_module": "@jupyter-widgets/controls",
          "model_module_version": "1.5.0",
          "model_name": "HTMLModel",
          "state": {
            "_dom_classes": [],
            "_model_module": "@jupyter-widgets/controls",
            "_model_module_version": "1.5.0",
            "_model_name": "HTMLModel",
            "_view_count": null,
            "_view_module": "@jupyter-widgets/controls",
            "_view_module_version": "1.5.0",
            "_view_name": "HTMLView",
            "description": "",
            "description_tooltip": null,
            "layout": "IPY_MODEL_9ed517769e314cfaaa47f1b56e3a84de",
            "placeholder": "​",
            "style": "IPY_MODEL_1b7f4ff764d44db4914089784a8650f7",
            "value": "Shuffling /root/tensorflow_datasets/plant_village/1.0.2.incompleteTM15M4/plant_village-train.tfrecord*...:  99%"
          }
        },
        "7fbc1d4b803d44009dfae90e62abfe35": {
          "model_module": "@jupyter-widgets/controls",
          "model_module_version": "1.5.0",
          "model_name": "HBoxModel",
          "state": {
            "_dom_classes": [],
            "_model_module": "@jupyter-widgets/controls",
            "_model_module_version": "1.5.0",
            "_model_name": "HBoxModel",
            "_view_count": null,
            "_view_module": "@jupyter-widgets/controls",
            "_view_module_version": "1.5.0",
            "_view_name": "HBoxView",
            "box_style": "",
            "children": [
              "IPY_MODEL_f77a883199474e09a1d667a24098257c",
              "IPY_MODEL_661ce2bd3f1545e9a0422a2e319aa438",
              "IPY_MODEL_37aae2b08aae4c62a873844af4fef878"
            ],
            "layout": "IPY_MODEL_691dedc276ba4a168a2e5d96acf86fa3"
          }
        },
        "8f673688b1d1400abeb02d7394ef837b": {
          "model_module": "@jupyter-widgets/controls",
          "model_module_version": "1.5.0",
          "model_name": "ProgressStyleModel",
          "state": {
            "_model_module": "@jupyter-widgets/controls",
            "_model_module_version": "1.5.0",
            "_model_name": "ProgressStyleModel",
            "_view_count": null,
            "_view_module": "@jupyter-widgets/base",
            "_view_module_version": "1.2.0",
            "_view_name": "StyleView",
            "bar_color": null,
            "description_width": ""
          }
        },
        "90b71f9f11184b8984e6ec62ce89a224": {
          "model_module": "@jupyter-widgets/controls",
          "model_module_version": "1.5.0",
          "model_name": "FloatProgressModel",
          "state": {
            "_dom_classes": [],
            "_model_module": "@jupyter-widgets/controls",
            "_model_module_version": "1.5.0",
            "_model_name": "FloatProgressModel",
            "_view_count": null,
            "_view_module": "@jupyter-widgets/controls",
            "_view_module_version": "1.5.0",
            "_view_name": "ProgressView",
            "bar_style": "info",
            "description": "",
            "description_tooltip": null,
            "layout": "IPY_MODEL_ced2f76b54564b7a80e9a11d090a7d06",
            "max": 1,
            "min": 0,
            "orientation": "horizontal",
            "style": "IPY_MODEL_0bbf24ab7dfc4c949c1ac759c9958a64",
            "value": 1
          }
        },
        "954aedb623c14b92a69f99dac3227027": {
          "model_module": "@jupyter-widgets/controls",
          "model_module_version": "1.5.0",
          "model_name": "FloatProgressModel",
          "state": {
            "_dom_classes": [],
            "_model_module": "@jupyter-widgets/controls",
            "_model_module_version": "1.5.0",
            "_model_name": "FloatProgressModel",
            "_view_count": null,
            "_view_module": "@jupyter-widgets/controls",
            "_view_module_version": "1.5.0",
            "_view_name": "ProgressView",
            "bar_style": "info",
            "description": "",
            "description_tooltip": null,
            "layout": "IPY_MODEL_01c4ea8e8c84441cab736ae6056c7e30",
            "max": 1,
            "min": 0,
            "orientation": "horizontal",
            "style": "IPY_MODEL_e4093fb1338a480794500ff4486a06b8",
            "value": 0
          }
        },
        "971d9529206e4efeae51f84139d4f974": {
          "model_module": "@jupyter-widgets/controls",
          "model_module_version": "1.5.0",
          "model_name": "DescriptionStyleModel",
          "state": {
            "_model_module": "@jupyter-widgets/controls",
            "_model_module_version": "1.5.0",
            "_model_name": "DescriptionStyleModel",
            "_view_count": null,
            "_view_module": "@jupyter-widgets/base",
            "_view_module_version": "1.2.0",
            "_view_name": "StyleView",
            "description_width": ""
          }
        },
        "9b8309860c63400e8a94dedfb506728a": {
          "model_module": "@jupyter-widgets/controls",
          "model_module_version": "1.5.0",
          "model_name": "HBoxModel",
          "state": {
            "_dom_classes": [],
            "_model_module": "@jupyter-widgets/controls",
            "_model_module_version": "1.5.0",
            "_model_name": "HBoxModel",
            "_view_count": null,
            "_view_module": "@jupyter-widgets/controls",
            "_view_module_version": "1.5.0",
            "_view_name": "HBoxView",
            "box_style": "",
            "children": [
              "IPY_MODEL_fcb9696635a44ad88eb429e7efecdf51",
              "IPY_MODEL_90b71f9f11184b8984e6ec62ce89a224",
              "IPY_MODEL_46a94e0d68fc4e42bdeaebc2f103cc26"
            ],
            "layout": "IPY_MODEL_a101feb0c9db4f26ab33a2fda68eed0f"
          }
        },
        "9ed517769e314cfaaa47f1b56e3a84de": {
          "model_module": "@jupyter-widgets/base",
          "model_module_version": "1.2.0",
          "model_name": "LayoutModel",
          "state": {
            "_model_module": "@jupyter-widgets/base",
            "_model_module_version": "1.2.0",
            "_model_name": "LayoutModel",
            "_view_count": null,
            "_view_module": "@jupyter-widgets/base",
            "_view_module_version": "1.2.0",
            "_view_name": "LayoutView",
            "align_content": null,
            "align_items": null,
            "align_self": null,
            "border": null,
            "bottom": null,
            "display": null,
            "flex": null,
            "flex_flow": null,
            "grid_area": null,
            "grid_auto_columns": null,
            "grid_auto_flow": null,
            "grid_auto_rows": null,
            "grid_column": null,
            "grid_gap": null,
            "grid_row": null,
            "grid_template_areas": null,
            "grid_template_columns": null,
            "grid_template_rows": null,
            "height": null,
            "justify_content": null,
            "justify_items": null,
            "left": null,
            "margin": null,
            "max_height": null,
            "max_width": null,
            "min_height": null,
            "min_width": null,
            "object_fit": null,
            "object_position": null,
            "order": null,
            "overflow": null,
            "overflow_x": null,
            "overflow_y": null,
            "padding": null,
            "right": null,
            "top": null,
            "visibility": null,
            "width": null
          }
        },
        "a101feb0c9db4f26ab33a2fda68eed0f": {
          "model_module": "@jupyter-widgets/base",
          "model_module_version": "1.2.0",
          "model_name": "LayoutModel",
          "state": {
            "_model_module": "@jupyter-widgets/base",
            "_model_module_version": "1.2.0",
            "_model_name": "LayoutModel",
            "_view_count": null,
            "_view_module": "@jupyter-widgets/base",
            "_view_module_version": "1.2.0",
            "_view_name": "LayoutView",
            "align_content": null,
            "align_items": null,
            "align_self": null,
            "border": null,
            "bottom": null,
            "display": null,
            "flex": null,
            "flex_flow": null,
            "grid_area": null,
            "grid_auto_columns": null,
            "grid_auto_flow": null,
            "grid_auto_rows": null,
            "grid_column": null,
            "grid_gap": null,
            "grid_row": null,
            "grid_template_areas": null,
            "grid_template_columns": null,
            "grid_template_rows": null,
            "height": null,
            "justify_content": null,
            "justify_items": null,
            "left": null,
            "margin": null,
            "max_height": null,
            "max_width": null,
            "min_height": null,
            "min_width": null,
            "object_fit": null,
            "object_position": null,
            "order": null,
            "overflow": null,
            "overflow_x": null,
            "overflow_y": null,
            "padding": null,
            "right": null,
            "top": null,
            "visibility": null,
            "width": null
          }
        },
        "a5dae2332b934b299927b252d975ae5e": {
          "model_module": "@jupyter-widgets/controls",
          "model_module_version": "1.5.0",
          "model_name": "HTMLModel",
          "state": {
            "_dom_classes": [],
            "_model_module": "@jupyter-widgets/controls",
            "_model_module_version": "1.5.0",
            "_model_name": "HTMLModel",
            "_view_count": null,
            "_view_module": "@jupyter-widgets/controls",
            "_view_module_version": "1.5.0",
            "_view_name": "HTMLView",
            "description": "",
            "description_tooltip": null,
            "layout": "IPY_MODEL_70f23c0b39984fb2b87ca3d7f5b3ee6e",
            "placeholder": "​",
            "style": "IPY_MODEL_2fb26b73c48f436ea38987ee3de850b3",
            "value": " 55385/55448 [03:20&lt;00:00, 959.57 file/s]"
          }
        },
        "c340d81c0bf34438a0614ccb3af4a15f": {
          "model_module": "@jupyter-widgets/controls",
          "model_module_version": "1.5.0",
          "model_name": "HTMLModel",
          "state": {
            "_dom_classes": [],
            "_model_module": "@jupyter-widgets/controls",
            "_model_module_version": "1.5.0",
            "_model_name": "HTMLModel",
            "_view_count": null,
            "_view_module": "@jupyter-widgets/controls",
            "_view_module_version": "1.5.0",
            "_view_name": "HTMLView",
            "description": "",
            "description_tooltip": null,
            "layout": "IPY_MODEL_dfe130a0180240d7820d64f5d32768de",
            "placeholder": "​",
            "style": "IPY_MODEL_03276f643ce14e42a549cb012c11c7ef",
            "value": " 53698/54303 [00:02&lt;00:00, 18071.05 examples/s]"
          }
        },
        "ced2f76b54564b7a80e9a11d090a7d06": {
          "model_module": "@jupyter-widgets/base",
          "model_module_version": "1.2.0",
          "model_name": "LayoutModel",
          "state": {
            "_model_module": "@jupyter-widgets/base",
            "_model_module_version": "1.2.0",
            "_model_name": "LayoutModel",
            "_view_count": null,
            "_view_module": "@jupyter-widgets/base",
            "_view_module_version": "1.2.0",
            "_view_name": "LayoutView",
            "align_content": null,
            "align_items": null,
            "align_self": null,
            "border": null,
            "bottom": null,
            "display": null,
            "flex": null,
            "flex_flow": null,
            "grid_area": null,
            "grid_auto_columns": null,
            "grid_auto_flow": null,
            "grid_auto_rows": null,
            "grid_column": null,
            "grid_gap": null,
            "grid_row": null,
            "grid_template_areas": null,
            "grid_template_columns": null,
            "grid_template_rows": null,
            "height": null,
            "justify_content": null,
            "justify_items": null,
            "left": null,
            "margin": null,
            "max_height": null,
            "max_width": null,
            "min_height": null,
            "min_width": null,
            "object_fit": null,
            "object_position": null,
            "order": null,
            "overflow": null,
            "overflow_x": null,
            "overflow_y": null,
            "padding": null,
            "right": null,
            "top": null,
            "visibility": null,
            "width": "20px"
          }
        },
        "d5b58367394e4c12adb72d9543102cfb": {
          "model_module": "@jupyter-widgets/controls",
          "model_module_version": "1.5.0",
          "model_name": "FloatProgressModel",
          "state": {
            "_dom_classes": [],
            "_model_module": "@jupyter-widgets/controls",
            "_model_module_version": "1.5.0",
            "_model_name": "FloatProgressModel",
            "_view_count": null,
            "_view_module": "@jupyter-widgets/controls",
            "_view_module_version": "1.5.0",
            "_view_name": "ProgressView",
            "bar_style": "",
            "description": "",
            "description_tooltip": null,
            "layout": "IPY_MODEL_5e94f6d46fe048a3a18f1053a8c9b3a9",
            "max": 54303,
            "min": 0,
            "orientation": "horizontal",
            "style": "IPY_MODEL_8f673688b1d1400abeb02d7394ef837b",
            "value": 54303
          }
        },
        "dc1b5fec34794b5aabc0324343742fdb": {
          "model_module": "@jupyter-widgets/controls",
          "model_module_version": "1.5.0",
          "model_name": "DescriptionStyleModel",
          "state": {
            "_model_module": "@jupyter-widgets/controls",
            "_model_module_version": "1.5.0",
            "_model_name": "DescriptionStyleModel",
            "_view_count": null,
            "_view_module": "@jupyter-widgets/base",
            "_view_module_version": "1.2.0",
            "_view_name": "StyleView",
            "description_width": ""
          }
        },
        "dfe130a0180240d7820d64f5d32768de": {
          "model_module": "@jupyter-widgets/base",
          "model_module_version": "1.2.0",
          "model_name": "LayoutModel",
          "state": {
            "_model_module": "@jupyter-widgets/base",
            "_model_module_version": "1.2.0",
            "_model_name": "LayoutModel",
            "_view_count": null,
            "_view_module": "@jupyter-widgets/base",
            "_view_module_version": "1.2.0",
            "_view_name": "LayoutView",
            "align_content": null,
            "align_items": null,
            "align_self": null,
            "border": null,
            "bottom": null,
            "display": null,
            "flex": null,
            "flex_flow": null,
            "grid_area": null,
            "grid_auto_columns": null,
            "grid_auto_flow": null,
            "grid_auto_rows": null,
            "grid_column": null,
            "grid_gap": null,
            "grid_row": null,
            "grid_template_areas": null,
            "grid_template_columns": null,
            "grid_template_rows": null,
            "height": null,
            "justify_content": null,
            "justify_items": null,
            "left": null,
            "margin": null,
            "max_height": null,
            "max_width": null,
            "min_height": null,
            "min_width": null,
            "object_fit": null,
            "object_position": null,
            "order": null,
            "overflow": null,
            "overflow_x": null,
            "overflow_y": null,
            "padding": null,
            "right": null,
            "top": null,
            "visibility": null,
            "width": null
          }
        },
        "e4093fb1338a480794500ff4486a06b8": {
          "model_module": "@jupyter-widgets/controls",
          "model_module_version": "1.5.0",
          "model_name": "ProgressStyleModel",
          "state": {
            "_model_module": "@jupyter-widgets/controls",
            "_model_module_version": "1.5.0",
            "_model_name": "ProgressStyleModel",
            "_view_count": null,
            "_view_module": "@jupyter-widgets/base",
            "_view_module_version": "1.2.0",
            "_view_name": "StyleView",
            "bar_color": null,
            "description_width": ""
          }
        },
        "f77a883199474e09a1d667a24098257c": {
          "model_module": "@jupyter-widgets/controls",
          "model_module_version": "1.5.0",
          "model_name": "HTMLModel",
          "state": {
            "_dom_classes": [],
            "_model_module": "@jupyter-widgets/controls",
            "_model_module_version": "1.5.0",
            "_model_name": "HTMLModel",
            "_view_count": null,
            "_view_module": "@jupyter-widgets/controls",
            "_view_module_version": "1.5.0",
            "_view_name": "HTMLView",
            "description": "",
            "description_tooltip": null,
            "layout": "IPY_MODEL_42f09acee4fe49aba6c684fc498f5dc3",
            "placeholder": "​",
            "style": "IPY_MODEL_6ed6d6807a6b4b81bfd8b9272ba8a864",
            "value": "Dl Completed...: 100%"
          }
        },
        "f8d5ed84f6864e3c95ef8068dfbc2f93": {
          "model_module": "@jupyter-widgets/base",
          "model_module_version": "1.2.0",
          "model_name": "LayoutModel",
          "state": {
            "_model_module": "@jupyter-widgets/base",
            "_model_module_version": "1.2.0",
            "_model_name": "LayoutModel",
            "_view_count": null,
            "_view_module": "@jupyter-widgets/base",
            "_view_module_version": "1.2.0",
            "_view_name": "LayoutView",
            "align_content": null,
            "align_items": null,
            "align_self": null,
            "border": null,
            "bottom": null,
            "display": null,
            "flex": null,
            "flex_flow": null,
            "grid_area": null,
            "grid_auto_columns": null,
            "grid_auto_flow": null,
            "grid_auto_rows": null,
            "grid_column": null,
            "grid_gap": null,
            "grid_row": null,
            "grid_template_areas": null,
            "grid_template_columns": null,
            "grid_template_rows": null,
            "height": null,
            "justify_content": null,
            "justify_items": null,
            "left": null,
            "margin": null,
            "max_height": null,
            "max_width": null,
            "min_height": null,
            "min_width": null,
            "object_fit": null,
            "object_position": null,
            "order": null,
            "overflow": null,
            "overflow_x": null,
            "overflow_y": null,
            "padding": null,
            "right": null,
            "top": null,
            "visibility": "hidden",
            "width": null
          }
        },
        "fcb9696635a44ad88eb429e7efecdf51": {
          "model_module": "@jupyter-widgets/controls",
          "model_module_version": "1.5.0",
          "model_name": "HTMLModel",
          "state": {
            "_dom_classes": [],
            "_model_module": "@jupyter-widgets/controls",
            "_model_module_version": "1.5.0",
            "_model_name": "HTMLModel",
            "_view_count": null,
            "_view_module": "@jupyter-widgets/controls",
            "_view_module_version": "1.5.0",
            "_view_name": "HTMLView",
            "description": "",
            "description_tooltip": null,
            "layout": "IPY_MODEL_0994804d524e464da2c56b3c82df5f07",
            "placeholder": "​",
            "style": "IPY_MODEL_36b12bf42a57413eac1a62768ee89cb9",
            "value": "Dl Size...: 100%"
          }
        }
      }
    }
  },
  "nbformat": 4,
  "nbformat_minor": 0
}
